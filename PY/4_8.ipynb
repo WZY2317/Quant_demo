{
 "cells": [
  {
   "cell_type": "code",
   "execution_count": 1,
   "id": "2dd51b8f",
   "metadata": {},
   "outputs": [],
   "source": [
    "y=8.4"
   ]
  },
  {
   "cell_type": "code",
   "execution_count": 2,
   "id": "2cd221da",
   "metadata": {},
   "outputs": [
    {
     "data": {
      "text/plain": [
       "float"
      ]
     },
     "execution_count": 2,
     "metadata": {},
     "output_type": "execute_result"
    }
   ],
   "source": [
    "type(y)"
   ]
  },
  {
   "cell_type": "code",
   "execution_count": 4,
   "id": "ecc9b9e3",
   "metadata": {},
   "outputs": [],
   "source": [
    "x=3"
   ]
  },
  {
   "cell_type": "code",
   "execution_count": 5,
   "id": "8c9a035a",
   "metadata": {},
   "outputs": [
    {
     "data": {
      "text/plain": [
       "int"
      ]
     },
     "execution_count": 5,
     "metadata": {},
     "output_type": "execute_result"
    }
   ],
   "source": [
    "type(3)"
   ]
  },
  {
   "cell_type": "code",
   "execution_count": 6,
   "id": "c36794be",
   "metadata": {},
   "outputs": [],
   "source": [
    "foodlist=['rice','apple','pear','peach']"
   ]
  },
  {
   "cell_type": "code",
   "execution_count": 7,
   "id": "9b966469",
   "metadata": {},
   "outputs": [
    {
     "data": {
      "text/plain": [
       "'rice'"
      ]
     },
     "execution_count": 7,
     "metadata": {},
     "output_type": "execute_result"
    }
   ],
   "source": [
    "foodlist[0]"
   ]
  },
  {
   "cell_type": "code",
   "execution_count": 8,
   "id": "bd3a8f52",
   "metadata": {},
   "outputs": [
    {
     "data": {
      "text/plain": [
       "'peach'"
      ]
     },
     "execution_count": 8,
     "metadata": {},
     "output_type": "execute_result"
    }
   ],
   "source": [
    "foodlist[-1]"
   ]
  },
  {
   "cell_type": "code",
   "execution_count": 9,
   "id": "019e4191",
   "metadata": {},
   "outputs": [],
   "source": [
    "len =len(foodlist)"
   ]
  },
  {
   "cell_type": "code",
   "execution_count": 10,
   "id": "73910501",
   "metadata": {},
   "outputs": [
    {
     "data": {
      "text/plain": [
       "'peach'"
      ]
     },
     "execution_count": 10,
     "metadata": {},
     "output_type": "execute_result"
    }
   ],
   "source": [
    "foodlist[len-1]"
   ]
  },
  {
   "cell_type": "code",
   "execution_count": 11,
   "id": "bfad268a",
   "metadata": {},
   "outputs": [],
   "source": [
    "foodlist[0]='fork'"
   ]
  },
  {
   "cell_type": "code",
   "execution_count": 12,
   "id": "c41fcc00",
   "metadata": {},
   "outputs": [
    {
     "data": {
      "text/plain": [
       "['fork', 'apple', 'pear', 'peach']"
      ]
     },
     "execution_count": 12,
     "metadata": {},
     "output_type": "execute_result"
    }
   ],
   "source": [
    "foodlist"
   ]
  },
  {
   "cell_type": "code",
   "execution_count": 14,
   "id": "bf7a156c",
   "metadata": {},
   "outputs": [
    {
     "data": {
      "text/plain": [
       "['fork', 'apple', 'pear', 'peach']"
      ]
     },
     "execution_count": 14,
     "metadata": {},
     "output_type": "execute_result"
    }
   ],
   "source": [
    "foodlist[0:]"
   ]
  },
  {
   "cell_type": "code",
   "execution_count": 15,
   "id": "fc58e647",
   "metadata": {},
   "outputs": [
    {
     "data": {
      "text/plain": [
       "['apple', 'pear', 'peach']"
      ]
     },
     "execution_count": 15,
     "metadata": {},
     "output_type": "execute_result"
    }
   ],
   "source": [
    "foodlist[1:]"
   ]
  },
  {
   "cell_type": "code",
   "execution_count": 16,
   "id": "69e50f49",
   "metadata": {},
   "outputs": [
    {
     "data": {
      "text/plain": [
       "['apple', 'pear']"
      ]
     },
     "execution_count": 16,
     "metadata": {},
     "output_type": "execute_result"
    }
   ],
   "source": [
    "foodlist[1:3]"
   ]
  },
  {
   "cell_type": "code",
   "execution_count": 17,
   "id": "406aa9d2",
   "metadata": {},
   "outputs": [],
   "source": [
    "MEUE=('红烧茄子','鱼香肉丝','西红柿鸡蛋')"
   ]
  },
  {
   "cell_type": "code",
   "execution_count": 18,
   "id": "45ecae3b",
   "metadata": {},
   "outputs": [
    {
     "ename": "TypeError",
     "evalue": "'tuple' object does not support item assignment",
     "output_type": "error",
     "traceback": [
      "\u001b[1;31m---------------------------------------------------------------------------\u001b[0m",
      "\u001b[1;31mTypeError\u001b[0m                                 Traceback (most recent call last)",
      "Cell \u001b[1;32mIn[18], line 1\u001b[0m\n\u001b[1;32m----> 1\u001b[0m \u001b[43mMEUE\u001b[49m\u001b[43m[\u001b[49m\u001b[38;5;241;43m0\u001b[39;49m\u001b[43m]\u001b[49m\u001b[38;5;241m=\u001b[39m\u001b[38;5;124m'\u001b[39m\u001b[38;5;124m佛跳墙\u001b[39m\u001b[38;5;124m'\u001b[39m\n",
      "\u001b[1;31mTypeError\u001b[0m: 'tuple' object does not support item assignment"
     ]
    }
   ],
   "source": [
    "MEUE[0]='佛跳墙'"
   ]
  },
  {
   "cell_type": "code",
   "execution_count": 19,
   "id": "78d224b6",
   "metadata": {},
   "outputs": [],
   "source": [
    "s=set()"
   ]
  },
  {
   "cell_type": "code",
   "execution_count": 20,
   "id": "e90f334e",
   "metadata": {},
   "outputs": [
    {
     "name": "stdout",
     "output_type": "stream",
     "text": [
      "set()\n"
     ]
    }
   ],
   "source": [
    "print(s)"
   ]
  },
  {
   "cell_type": "code",
   "execution_count": 21,
   "id": "7e9349ec",
   "metadata": {},
   "outputs": [
    {
     "ename": "NameError",
     "evalue": "name 'num' is not defined",
     "output_type": "error",
     "traceback": [
      "\u001b[1;31m---------------------------------------------------------------------------\u001b[0m",
      "\u001b[1;31mNameError\u001b[0m                                 Traceback (most recent call last)",
      "Cell \u001b[1;32mIn[21], line 1\u001b[0m\n\u001b[1;32m----> 1\u001b[0m \u001b[43mnum\u001b[49m\n",
      "\u001b[1;31mNameError\u001b[0m: name 'num' is not defined"
     ]
    }
   ],
   "source": [
    "num"
   ]
  },
  {
   "cell_type": "code",
   "execution_count": 22,
   "id": "f482dddc",
   "metadata": {},
   "outputs": [],
   "source": [
    "num=1"
   ]
  },
  {
   "cell_type": "code",
   "execution_count": 23,
   "id": "1a68a314",
   "metadata": {},
   "outputs": [],
   "source": [
    "num=None"
   ]
  },
  {
   "cell_type": "code",
   "execution_count": 24,
   "id": "13db10e4",
   "metadata": {},
   "outputs": [
    {
     "name": "stdout",
     "output_type": "stream",
     "text": [
      "None\n"
     ]
    }
   ],
   "source": [
    "print(num)"
   ]
  },
  {
   "cell_type": "code",
   "execution_count": null,
   "id": "dd9582af",
   "metadata": {},
   "outputs": [],
   "source": []
  }
 ],
 "metadata": {
  "kernelspec": {
   "display_name": "Python 3 (ipykernel)",
   "language": "python",
   "name": "python3"
  },
  "language_info": {
   "codemirror_mode": {
    "name": "ipython",
    "version": 3
   },
   "file_extension": ".py",
   "mimetype": "text/x-python",
   "name": "python",
   "nbconvert_exporter": "python",
   "pygments_lexer": "ipython3",
   "version": "3.10.2"
  }
 },
 "nbformat": 4,
 "nbformat_minor": 5
}
