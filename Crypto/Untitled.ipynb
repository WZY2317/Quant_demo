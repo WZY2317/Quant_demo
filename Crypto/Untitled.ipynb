{
 "cells": [
  {
   "cell_type": "code",
   "execution_count": 5,
   "id": "6768c584",
   "metadata": {},
   "outputs": [],
   "source": [
    "from binance.websocket.um_futures.websocket_client import UMFuturesWebsocketClient"
   ]
  },
  {
   "cell_type": "code",
   "execution_count": 6,
   "id": "83389470",
   "metadata": {},
   "outputs": [],
   "source": [
    "def message_handler(_, message):\n",
    "    print(message)"
   ]
  },
  {
   "cell_type": "code",
   "execution_count": 10,
   "id": "2bd3c4f2",
   "metadata": {},
   "outputs": [],
   "source": [
    "from binance.um_futures import UMFutures"
   ]
  },
  {
   "cell_type": "code",
   "execution_count": 13,
   "id": "b02d14af",
   "metadata": {},
   "outputs": [
    {
     "ename": "TimeoutError",
     "evalue": "[WinError 10060] 由于连接方在一段时间后没有正确答复或连接的主机没有反应，连接尝试失败。",
     "output_type": "error",
     "traceback": [
      "\u001b[1;31m---------------------------------------------------------------------------\u001b[0m",
      "\u001b[1;31mTimeoutError\u001b[0m                              Traceback (most recent call last)",
      "Cell \u001b[1;32mIn[13], line 1\u001b[0m\n\u001b[1;32m----> 1\u001b[0m my_client \u001b[38;5;241m=\u001b[39m \u001b[43mUMFuturesWebsocketClient\u001b[49m\u001b[43m(\u001b[49m\u001b[43m)\u001b[49m\n",
      "File \u001b[1;32mF:\\26856\\lib\\site-packages\\binance\\websocket\\um_futures\\websocket_client.py:23\u001b[0m, in \u001b[0;36mUMFuturesWebsocketClient.__init__\u001b[1;34m(self, stream_url, on_message, on_open, on_close, on_error, on_ping, on_pong, is_combined, proxies)\u001b[0m\n\u001b[0;32m     21\u001b[0m \u001b[38;5;28;01melse\u001b[39;00m:\n\u001b[0;32m     22\u001b[0m     stream_url \u001b[38;5;241m=\u001b[39m stream_url \u001b[38;5;241m+\u001b[39m \u001b[38;5;124m\"\u001b[39m\u001b[38;5;124m/ws\u001b[39m\u001b[38;5;124m\"\u001b[39m\n\u001b[1;32m---> 23\u001b[0m \u001b[38;5;28;43msuper\u001b[39;49m\u001b[43m(\u001b[49m\u001b[43m)\u001b[49m\u001b[38;5;241;43m.\u001b[39;49m\u001b[38;5;21;43m__init__\u001b[39;49m\u001b[43m(\u001b[49m\n\u001b[0;32m     24\u001b[0m \u001b[43m    \u001b[49m\u001b[43mstream_url\u001b[49m\u001b[43m,\u001b[49m\n\u001b[0;32m     25\u001b[0m \u001b[43m    \u001b[49m\u001b[43mon_message\u001b[49m\u001b[38;5;241;43m=\u001b[39;49m\u001b[43mon_message\u001b[49m\u001b[43m,\u001b[49m\n\u001b[0;32m     26\u001b[0m \u001b[43m    \u001b[49m\u001b[43mon_open\u001b[49m\u001b[38;5;241;43m=\u001b[39;49m\u001b[43mon_open\u001b[49m\u001b[43m,\u001b[49m\n\u001b[0;32m     27\u001b[0m \u001b[43m    \u001b[49m\u001b[43mon_close\u001b[49m\u001b[38;5;241;43m=\u001b[39;49m\u001b[43mon_close\u001b[49m\u001b[43m,\u001b[49m\n\u001b[0;32m     28\u001b[0m \u001b[43m    \u001b[49m\u001b[43mon_error\u001b[49m\u001b[38;5;241;43m=\u001b[39;49m\u001b[43mon_error\u001b[49m\u001b[43m,\u001b[49m\n\u001b[0;32m     29\u001b[0m \u001b[43m    \u001b[49m\u001b[43mon_ping\u001b[49m\u001b[38;5;241;43m=\u001b[39;49m\u001b[43mon_ping\u001b[49m\u001b[43m,\u001b[49m\n\u001b[0;32m     30\u001b[0m \u001b[43m    \u001b[49m\u001b[43mon_pong\u001b[49m\u001b[38;5;241;43m=\u001b[39;49m\u001b[43mon_pong\u001b[49m\u001b[43m,\u001b[49m\n\u001b[0;32m     31\u001b[0m \u001b[43m    \u001b[49m\u001b[43mproxies\u001b[49m\u001b[38;5;241;43m=\u001b[39;49m\u001b[43mproxies\u001b[49m\u001b[43m,\u001b[49m\n\u001b[0;32m     32\u001b[0m \u001b[43m\u001b[49m\u001b[43m)\u001b[49m\n",
      "File \u001b[1;32mF:\\26856\\lib\\site-packages\\binance\\websocket\\websocket_client.py:29\u001b[0m, in \u001b[0;36mBinanceWebsocketClient.__init__\u001b[1;34m(self, stream_url, on_message, on_open, on_close, on_error, on_ping, on_pong, logger, proxies)\u001b[0m\n\u001b[0;32m     27\u001b[0m     logger \u001b[38;5;241m=\u001b[39m logging\u001b[38;5;241m.\u001b[39mgetLogger(\u001b[38;5;18m__name__\u001b[39m)\n\u001b[0;32m     28\u001b[0m \u001b[38;5;28mself\u001b[39m\u001b[38;5;241m.\u001b[39mlogger \u001b[38;5;241m=\u001b[39m logger\n\u001b[1;32m---> 29\u001b[0m \u001b[38;5;28mself\u001b[39m\u001b[38;5;241m.\u001b[39msocket_manager \u001b[38;5;241m=\u001b[39m \u001b[38;5;28;43mself\u001b[39;49m\u001b[38;5;241;43m.\u001b[39;49m\u001b[43m_initialize_socket\u001b[49m\u001b[43m(\u001b[49m\n\u001b[0;32m     30\u001b[0m \u001b[43m    \u001b[49m\u001b[43mstream_url\u001b[49m\u001b[43m,\u001b[49m\n\u001b[0;32m     31\u001b[0m \u001b[43m    \u001b[49m\u001b[43mon_message\u001b[49m\u001b[43m,\u001b[49m\n\u001b[0;32m     32\u001b[0m \u001b[43m    \u001b[49m\u001b[43mon_open\u001b[49m\u001b[43m,\u001b[49m\n\u001b[0;32m     33\u001b[0m \u001b[43m    \u001b[49m\u001b[43mon_close\u001b[49m\u001b[43m,\u001b[49m\n\u001b[0;32m     34\u001b[0m \u001b[43m    \u001b[49m\u001b[43mon_error\u001b[49m\u001b[43m,\u001b[49m\n\u001b[0;32m     35\u001b[0m \u001b[43m    \u001b[49m\u001b[43mon_ping\u001b[49m\u001b[43m,\u001b[49m\n\u001b[0;32m     36\u001b[0m \u001b[43m    \u001b[49m\u001b[43mon_pong\u001b[49m\u001b[43m,\u001b[49m\n\u001b[0;32m     37\u001b[0m \u001b[43m    \u001b[49m\u001b[43mlogger\u001b[49m\u001b[43m,\u001b[49m\n\u001b[0;32m     38\u001b[0m \u001b[43m    \u001b[49m\u001b[43mproxies\u001b[49m\u001b[43m,\u001b[49m\n\u001b[0;32m     39\u001b[0m \u001b[43m\u001b[49m\u001b[43m)\u001b[49m\n\u001b[0;32m     41\u001b[0m \u001b[38;5;66;03m# start the thread\u001b[39;00m\n\u001b[0;32m     42\u001b[0m \u001b[38;5;28mself\u001b[39m\u001b[38;5;241m.\u001b[39msocket_manager\u001b[38;5;241m.\u001b[39mstart()\n",
      "File \u001b[1;32mF:\\26856\\lib\\site-packages\\binance\\websocket\\websocket_client.py:57\u001b[0m, in \u001b[0;36mBinanceWebsocketClient._initialize_socket\u001b[1;34m(self, stream_url, on_message, on_open, on_close, on_error, on_ping, on_pong, logger, proxies)\u001b[0m\n\u001b[0;32m     45\u001b[0m \u001b[38;5;28;01mdef\u001b[39;00m \u001b[38;5;21m_initialize_socket\u001b[39m(\n\u001b[0;32m     46\u001b[0m     \u001b[38;5;28mself\u001b[39m,\n\u001b[0;32m     47\u001b[0m     stream_url,\n\u001b[1;32m   (...)\u001b[0m\n\u001b[0;32m     55\u001b[0m     proxies,\n\u001b[0;32m     56\u001b[0m ):\n\u001b[1;32m---> 57\u001b[0m     \u001b[38;5;28;01mreturn\u001b[39;00m \u001b[43mBinanceSocketManager\u001b[49m\u001b[43m(\u001b[49m\n\u001b[0;32m     58\u001b[0m \u001b[43m        \u001b[49m\u001b[43mstream_url\u001b[49m\u001b[43m,\u001b[49m\n\u001b[0;32m     59\u001b[0m \u001b[43m        \u001b[49m\u001b[43mon_message\u001b[49m\u001b[38;5;241;43m=\u001b[39;49m\u001b[43mon_message\u001b[49m\u001b[43m,\u001b[49m\n\u001b[0;32m     60\u001b[0m \u001b[43m        \u001b[49m\u001b[43mon_open\u001b[49m\u001b[38;5;241;43m=\u001b[39;49m\u001b[43mon_open\u001b[49m\u001b[43m,\u001b[49m\n\u001b[0;32m     61\u001b[0m \u001b[43m        \u001b[49m\u001b[43mon_close\u001b[49m\u001b[38;5;241;43m=\u001b[39;49m\u001b[43mon_close\u001b[49m\u001b[43m,\u001b[49m\n\u001b[0;32m     62\u001b[0m \u001b[43m        \u001b[49m\u001b[43mon_error\u001b[49m\u001b[38;5;241;43m=\u001b[39;49m\u001b[43mon_error\u001b[49m\u001b[43m,\u001b[49m\n\u001b[0;32m     63\u001b[0m \u001b[43m        \u001b[49m\u001b[43mon_ping\u001b[49m\u001b[38;5;241;43m=\u001b[39;49m\u001b[43mon_ping\u001b[49m\u001b[43m,\u001b[49m\n\u001b[0;32m     64\u001b[0m \u001b[43m        \u001b[49m\u001b[43mon_pong\u001b[49m\u001b[38;5;241;43m=\u001b[39;49m\u001b[43mon_pong\u001b[49m\u001b[43m,\u001b[49m\n\u001b[0;32m     65\u001b[0m \u001b[43m        \u001b[49m\u001b[43mlogger\u001b[49m\u001b[38;5;241;43m=\u001b[39;49m\u001b[43mlogger\u001b[49m\u001b[43m,\u001b[49m\n\u001b[0;32m     66\u001b[0m \u001b[43m        \u001b[49m\u001b[43mproxies\u001b[49m\u001b[38;5;241;43m=\u001b[39;49m\u001b[43mproxies\u001b[49m\u001b[43m,\u001b[49m\n\u001b[0;32m     67\u001b[0m \u001b[43m    \u001b[49m\u001b[43m)\u001b[49m\n",
      "File \u001b[1;32mF:\\26856\\lib\\site-packages\\binance\\websocket\\binance_socket_manager.py:42\u001b[0m, in \u001b[0;36mBinanceSocketManager.__init__\u001b[1;34m(self, stream_url, on_message, on_open, on_close, on_error, on_ping, on_pong, logger, proxies)\u001b[0m\n\u001b[0;32m     38\u001b[0m \u001b[38;5;28mself\u001b[39m\u001b[38;5;241m.\u001b[39mproxies \u001b[38;5;241m=\u001b[39m proxies\n\u001b[0;32m     40\u001b[0m \u001b[38;5;28mself\u001b[39m\u001b[38;5;241m.\u001b[39m_proxy_params \u001b[38;5;241m=\u001b[39m parse_proxies(proxies) \u001b[38;5;28;01mif\u001b[39;00m proxies \u001b[38;5;28;01melse\u001b[39;00m {}\n\u001b[1;32m---> 42\u001b[0m \u001b[38;5;28;43mself\u001b[39;49m\u001b[38;5;241;43m.\u001b[39;49m\u001b[43mcreate_ws_connection\u001b[49m\u001b[43m(\u001b[49m\u001b[43m)\u001b[49m\n",
      "File \u001b[1;32mF:\\26856\\lib\\site-packages\\binance\\websocket\\binance_socket_manager.py:48\u001b[0m, in \u001b[0;36mBinanceSocketManager.create_ws_connection\u001b[1;34m(self)\u001b[0m\n\u001b[0;32m     44\u001b[0m \u001b[38;5;28;01mdef\u001b[39;00m \u001b[38;5;21mcreate_ws_connection\u001b[39m(\u001b[38;5;28mself\u001b[39m):\n\u001b[0;32m     45\u001b[0m     \u001b[38;5;28mself\u001b[39m\u001b[38;5;241m.\u001b[39mlogger\u001b[38;5;241m.\u001b[39mdebug(\n\u001b[0;32m     46\u001b[0m         \u001b[38;5;124mf\u001b[39m\u001b[38;5;124m\"\u001b[39m\u001b[38;5;124mCreating connection with WebSocket Server: \u001b[39m\u001b[38;5;132;01m{\u001b[39;00m\u001b[38;5;28mself\u001b[39m\u001b[38;5;241m.\u001b[39mstream_url\u001b[38;5;132;01m}\u001b[39;00m\u001b[38;5;124m, proxies: \u001b[39m\u001b[38;5;132;01m{\u001b[39;00m\u001b[38;5;28mself\u001b[39m\u001b[38;5;241m.\u001b[39mproxies\u001b[38;5;132;01m}\u001b[39;00m\u001b[38;5;124m\"\u001b[39m,\n\u001b[0;32m     47\u001b[0m     )\n\u001b[1;32m---> 48\u001b[0m     \u001b[38;5;28mself\u001b[39m\u001b[38;5;241m.\u001b[39mws \u001b[38;5;241m=\u001b[39m create_connection(\u001b[38;5;28mself\u001b[39m\u001b[38;5;241m.\u001b[39mstream_url, \u001b[38;5;241m*\u001b[39m\u001b[38;5;241m*\u001b[39m\u001b[38;5;28mself\u001b[39m\u001b[38;5;241m.\u001b[39m_proxy_params)\n\u001b[0;32m     49\u001b[0m     \u001b[38;5;28mself\u001b[39m\u001b[38;5;241m.\u001b[39mlogger\u001b[38;5;241m.\u001b[39mdebug(\n\u001b[0;32m     50\u001b[0m         \u001b[38;5;124mf\u001b[39m\u001b[38;5;124m\"\u001b[39m\u001b[38;5;124mWebSocket connection has been established: \u001b[39m\u001b[38;5;132;01m{\u001b[39;00m\u001b[38;5;28mself\u001b[39m\u001b[38;5;241m.\u001b[39mstream_url\u001b[38;5;132;01m}\u001b[39;00m\u001b[38;5;124m, proxies: \u001b[39m\u001b[38;5;132;01m{\u001b[39;00m\u001b[38;5;28mself\u001b[39m\u001b[38;5;241m.\u001b[39mproxies\u001b[38;5;132;01m}\u001b[39;00m\u001b[38;5;124m\"\u001b[39m,\n\u001b[0;32m     51\u001b[0m     )\n\u001b[0;32m     52\u001b[0m     \u001b[38;5;28mself\u001b[39m\u001b[38;5;241m.\u001b[39m_callback(\u001b[38;5;28mself\u001b[39m\u001b[38;5;241m.\u001b[39mon_open)\n",
      "File \u001b[1;32mF:\\26856\\lib\\site-packages\\websocket\\_core.py:646\u001b[0m, in \u001b[0;36mcreate_connection\u001b[1;34m(url, timeout, class_, **options)\u001b[0m\n\u001b[0;32m    637\u001b[0m websock \u001b[38;5;241m=\u001b[39m class_(\n\u001b[0;32m    638\u001b[0m     sockopt\u001b[38;5;241m=\u001b[39msockopt,\n\u001b[0;32m    639\u001b[0m     sslopt\u001b[38;5;241m=\u001b[39msslopt,\n\u001b[1;32m   (...)\u001b[0m\n\u001b[0;32m    643\u001b[0m     \u001b[38;5;241m*\u001b[39m\u001b[38;5;241m*\u001b[39moptions,\n\u001b[0;32m    644\u001b[0m )\n\u001b[0;32m    645\u001b[0m websock\u001b[38;5;241m.\u001b[39msettimeout(timeout \u001b[38;5;28;01mif\u001b[39;00m timeout \u001b[38;5;129;01mis\u001b[39;00m \u001b[38;5;129;01mnot\u001b[39;00m \u001b[38;5;28;01mNone\u001b[39;00m \u001b[38;5;28;01melse\u001b[39;00m getdefaulttimeout())\n\u001b[1;32m--> 646\u001b[0m websock\u001b[38;5;241m.\u001b[39mconnect(url, \u001b[38;5;241m*\u001b[39m\u001b[38;5;241m*\u001b[39moptions)\n\u001b[0;32m    647\u001b[0m \u001b[38;5;28;01mreturn\u001b[39;00m websock\n",
      "File \u001b[1;32mF:\\26856\\lib\\site-packages\\websocket\\_core.py:256\u001b[0m, in \u001b[0;36mWebSocket.connect\u001b[1;34m(self, url, **options)\u001b[0m\n\u001b[0;32m    209\u001b[0m \u001b[38;5;124;03m\"\"\"\u001b[39;00m\n\u001b[0;32m    210\u001b[0m \u001b[38;5;124;03mConnect to url. url is websocket url scheme.\u001b[39;00m\n\u001b[0;32m    211\u001b[0m \u001b[38;5;124;03mie. ws://host:port/resource\u001b[39;00m\n\u001b[1;32m   (...)\u001b[0m\n\u001b[0;32m    253\u001b[0m \u001b[38;5;124;03m    Pre-initialized stream socket.\u001b[39;00m\n\u001b[0;32m    254\u001b[0m \u001b[38;5;124;03m\"\"\"\u001b[39;00m\n\u001b[0;32m    255\u001b[0m \u001b[38;5;28mself\u001b[39m\u001b[38;5;241m.\u001b[39msock_opt\u001b[38;5;241m.\u001b[39mtimeout \u001b[38;5;241m=\u001b[39m options\u001b[38;5;241m.\u001b[39mget(\u001b[38;5;124m\"\u001b[39m\u001b[38;5;124mtimeout\u001b[39m\u001b[38;5;124m\"\u001b[39m, \u001b[38;5;28mself\u001b[39m\u001b[38;5;241m.\u001b[39msock_opt\u001b[38;5;241m.\u001b[39mtimeout)\n\u001b[1;32m--> 256\u001b[0m \u001b[38;5;28mself\u001b[39m\u001b[38;5;241m.\u001b[39msock, addrs \u001b[38;5;241m=\u001b[39m \u001b[43mconnect\u001b[49m\u001b[43m(\u001b[49m\n\u001b[0;32m    257\u001b[0m \u001b[43m    \u001b[49m\u001b[43murl\u001b[49m\u001b[43m,\u001b[49m\u001b[43m \u001b[49m\u001b[38;5;28;43mself\u001b[39;49m\u001b[38;5;241;43m.\u001b[39;49m\u001b[43msock_opt\u001b[49m\u001b[43m,\u001b[49m\u001b[43m \u001b[49m\u001b[43mproxy_info\u001b[49m\u001b[43m(\u001b[49m\u001b[38;5;241;43m*\u001b[39;49m\u001b[38;5;241;43m*\u001b[39;49m\u001b[43moptions\u001b[49m\u001b[43m)\u001b[49m\u001b[43m,\u001b[49m\u001b[43m \u001b[49m\u001b[43moptions\u001b[49m\u001b[38;5;241;43m.\u001b[39;49m\u001b[43mpop\u001b[49m\u001b[43m(\u001b[49m\u001b[38;5;124;43m\"\u001b[39;49m\u001b[38;5;124;43msocket\u001b[39;49m\u001b[38;5;124;43m\"\u001b[39;49m\u001b[43m,\u001b[49m\u001b[43m \u001b[49m\u001b[38;5;28;43;01mNone\u001b[39;49;00m\u001b[43m)\u001b[49m\n\u001b[0;32m    258\u001b[0m \u001b[43m\u001b[49m\u001b[43m)\u001b[49m\n\u001b[0;32m    260\u001b[0m \u001b[38;5;28;01mtry\u001b[39;00m:\n\u001b[0;32m    261\u001b[0m     \u001b[38;5;28mself\u001b[39m\u001b[38;5;241m.\u001b[39mhandshake_response \u001b[38;5;241m=\u001b[39m handshake(\u001b[38;5;28mself\u001b[39m\u001b[38;5;241m.\u001b[39msock, url, \u001b[38;5;241m*\u001b[39maddrs, \u001b[38;5;241m*\u001b[39m\u001b[38;5;241m*\u001b[39moptions)\n",
      "File \u001b[1;32mF:\\26856\\lib\\site-packages\\websocket\\_http.py:141\u001b[0m, in \u001b[0;36mconnect\u001b[1;34m(url, options, proxy, socket)\u001b[0m\n\u001b[0;32m    139\u001b[0m sock \u001b[38;5;241m=\u001b[39m \u001b[38;5;28;01mNone\u001b[39;00m\n\u001b[0;32m    140\u001b[0m \u001b[38;5;28;01mtry\u001b[39;00m:\n\u001b[1;32m--> 141\u001b[0m     sock \u001b[38;5;241m=\u001b[39m \u001b[43m_open_socket\u001b[49m\u001b[43m(\u001b[49m\u001b[43maddrinfo_list\u001b[49m\u001b[43m,\u001b[49m\u001b[43m \u001b[49m\u001b[43moptions\u001b[49m\u001b[38;5;241;43m.\u001b[39;49m\u001b[43msockopt\u001b[49m\u001b[43m,\u001b[49m\u001b[43m \u001b[49m\u001b[43moptions\u001b[49m\u001b[38;5;241;43m.\u001b[39;49m\u001b[43mtimeout\u001b[49m\u001b[43m)\u001b[49m\n\u001b[0;32m    142\u001b[0m     \u001b[38;5;28;01mif\u001b[39;00m need_tunnel:\n\u001b[0;32m    143\u001b[0m         sock \u001b[38;5;241m=\u001b[39m _tunnel(sock, hostname, port_from_url, auth)\n",
      "File \u001b[1;32mF:\\26856\\lib\\site-packages\\websocket\\_http.py:218\u001b[0m, in \u001b[0;36m_open_socket\u001b[1;34m(addrinfo_list, sockopt, timeout)\u001b[0m\n\u001b[0;32m    216\u001b[0m     eConnRefused \u001b[38;5;241m=\u001b[39m (errno\u001b[38;5;241m.\u001b[39mECONNREFUSED, errno\u001b[38;5;241m.\u001b[39mENETUNREACH)\n\u001b[0;32m    217\u001b[0m \u001b[38;5;28;01mif\u001b[39;00m error\u001b[38;5;241m.\u001b[39merrno \u001b[38;5;129;01mnot\u001b[39;00m \u001b[38;5;129;01min\u001b[39;00m eConnRefused:\n\u001b[1;32m--> 218\u001b[0m     \u001b[38;5;28;01mraise\u001b[39;00m error\n\u001b[0;32m    219\u001b[0m err \u001b[38;5;241m=\u001b[39m error\n\u001b[0;32m    220\u001b[0m \u001b[38;5;28;01mcontinue\u001b[39;00m\n",
      "File \u001b[1;32mF:\\26856\\lib\\site-packages\\websocket\\_http.py:205\u001b[0m, in \u001b[0;36m_open_socket\u001b[1;34m(addrinfo_list, sockopt, timeout)\u001b[0m\n\u001b[0;32m    203\u001b[0m \u001b[38;5;28;01mwhile\u001b[39;00m \u001b[38;5;129;01mnot\u001b[39;00m err:\n\u001b[0;32m    204\u001b[0m     \u001b[38;5;28;01mtry\u001b[39;00m:\n\u001b[1;32m--> 205\u001b[0m         \u001b[43msock\u001b[49m\u001b[38;5;241;43m.\u001b[39;49m\u001b[43mconnect\u001b[49m\u001b[43m(\u001b[49m\u001b[43maddress\u001b[49m\u001b[43m)\u001b[49m\n\u001b[0;32m    206\u001b[0m     \u001b[38;5;28;01mexcept\u001b[39;00m socket\u001b[38;5;241m.\u001b[39merror \u001b[38;5;28;01mas\u001b[39;00m error:\n\u001b[0;32m    207\u001b[0m         sock\u001b[38;5;241m.\u001b[39mclose()\n",
      "\u001b[1;31mTimeoutError\u001b[0m: [WinError 10060] 由于连接方在一段时间后没有正确答复或连接的主机没有反应，连接尝试失败。"
     ]
    }
   ],
   "source": [
    "my_client = UMFuturesWebsocketClient()"
   ]
  },
  {
   "cell_type": "code",
   "execution_count": null,
   "id": "59f87bab",
   "metadata": {},
   "outputs": [],
   "source": [
    "my_client.start()"
   ]
  },
  {
   "cell_type": "code",
   "execution_count": null,
   "id": "9928ff7b",
   "metadata": {},
   "outputs": [],
   "source": []
  }
 ],
 "metadata": {
  "kernelspec": {
   "display_name": "Python 3 (ipykernel)",
   "language": "python",
   "name": "python3"
  },
  "language_info": {
   "codemirror_mode": {
    "name": "ipython",
    "version": 3
   },
   "file_extension": ".py",
   "mimetype": "text/x-python",
   "name": "python",
   "nbconvert_exporter": "python",
   "pygments_lexer": "ipython3",
   "version": "3.10.9"
  }
 },
 "nbformat": 4,
 "nbformat_minor": 5
}
