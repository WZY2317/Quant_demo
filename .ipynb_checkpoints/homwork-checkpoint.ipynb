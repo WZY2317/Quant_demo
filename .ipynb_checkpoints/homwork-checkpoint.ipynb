{
 "cells": [
  {
   "cell_type": "code",
   "execution_count": 1,
   "id": "241ae7f7",
   "metadata": {},
   "outputs": [
    {
     "data": {
      "text/plain": [
       "499.99999999999994"
      ]
     },
     "execution_count": 1,
     "metadata": {},
     "output_type": "execute_result"
    }
   ],
   "source": [
    "0+30.0+48.7+127.3+96.8+76.6+55.2+43.4+22.0"
   ]
  },
  {
   "cell_type": "code",
   "execution_count": 8,
   "id": "248d4120",
   "metadata": {},
   "outputs": [
    {
     "data": {
      "text/plain": [
       "500.3999999999999"
      ]
     },
     "execution_count": 8,
     "metadata": {},
     "output_type": "execute_result"
    }
   ],
   "source": [
    "30.0+48.7+127.7+96.8+76.6+55.2+43.4+22\n"
   ]
  },
  {
   "cell_type": "code",
   "execution_count": 9,
   "id": "059afadb",
   "metadata": {},
   "outputs": [
    {
     "data": {
      "text/plain": [
       "0.023752969121140142"
      ]
     },
     "execution_count": 9,
     "metadata": {},
     "output_type": "execute_result"
    }
   ],
   "source": [
    "10/421"
   ]
  },
  {
   "cell_type": "code",
   "execution_count": 13,
   "id": "d525382c",
   "metadata": {},
   "outputs": [
    {
     "data": {
      "text/plain": [
       "434.59999999999997"
      ]
     },
     "execution_count": 13,
     "metadata": {},
     "output_type": "execute_result"
    }
   ],
   "source": [
    "79+127+96.8+76.6+55.2\n"
   ]
  },
  {
   "cell_type": "code",
   "execution_count": 14,
   "id": "33813eef",
   "metadata": {},
   "outputs": [],
   "source": [
    "import numpy as np"
   ]
  },
  {
   "cell_type": "code",
   "execution_count": 19,
   "id": "975dde4a",
   "metadata": {},
   "outputs": [],
   "source": [
    "def cau():\n",
    "    a=np.array([21.6 ,71.1 ,173.7 ,262.8 ,358.4 ,418.8])\n",
    "    size=a.size\n",
    "    for x in a:\n",
    "        print(1-x/500)"
   ]
  },
  {
   "cell_type": "code",
   "execution_count": 17,
   "id": "e5beffb7",
   "metadata": {},
   "outputs": [
    {
     "ename": "TypeError",
     "evalue": "'int' object is not callable",
     "output_type": "error",
     "traceback": [
      "\u001b[1;31m---------------------------------------------------------------------------\u001b[0m",
      "\u001b[1;31mTypeError\u001b[0m                                 Traceback (most recent call last)",
      "Cell \u001b[1;32mIn[17], line 1\u001b[0m\n\u001b[1;32m----> 1\u001b[0m \u001b[43mcau\u001b[49m\u001b[43m(\u001b[49m\u001b[43m)\u001b[49m\n",
      "Cell \u001b[1;32mIn[16], line 3\u001b[0m, in \u001b[0;36mcau\u001b[1;34m()\u001b[0m\n\u001b[0;32m      1\u001b[0m \u001b[38;5;28;01mdef\u001b[39;00m \u001b[38;5;21mcau\u001b[39m():\n\u001b[0;32m      2\u001b[0m     a\u001b[38;5;241m=\u001b[39mnp\u001b[38;5;241m.\u001b[39marray([\u001b[38;5;241m21.6\u001b[39m ,\u001b[38;5;241m71.1\u001b[39m ,\u001b[38;5;241m173.7\u001b[39m ,\u001b[38;5;241m262.8\u001b[39m ,\u001b[38;5;241m358.4\u001b[39m ,\u001b[38;5;241m418.8\u001b[39m])\n\u001b[1;32m----> 3\u001b[0m     size\u001b[38;5;241m=\u001b[39m\u001b[43ma\u001b[49m\u001b[38;5;241;43m.\u001b[39;49m\u001b[43msize\u001b[49m\u001b[43m(\u001b[49m\u001b[43m)\u001b[49m\n\u001b[0;32m      4\u001b[0m     \u001b[38;5;28;01mfor\u001b[39;00m x \u001b[38;5;129;01min\u001b[39;00m a:\n\u001b[0;32m      5\u001b[0m         \u001b[38;5;28mprint\u001b[39m(\u001b[38;5;241m1\u001b[39m\u001b[38;5;241m-\u001b[39mx\u001b[38;5;241m/\u001b[39m\u001b[38;5;241m500\u001b[39m)\n",
      "\u001b[1;31mTypeError\u001b[0m: 'int' object is not callable"
     ]
    }
   ],
   "source": [
    "cau()"
   ]
  },
  {
   "cell_type": "code",
   "execution_count": null,
   "id": "904fa318",
   "metadata": {},
   "outputs": [],
   "source": []
  }
 ],
 "metadata": {
  "kernelspec": {
   "display_name": "Python 3 (ipykernel)",
   "language": "python",
   "name": "python3"
  },
  "language_info": {
   "codemirror_mode": {
    "name": "ipython",
    "version": 3
   },
   "file_extension": ".py",
   "mimetype": "text/x-python",
   "name": "python",
   "nbconvert_exporter": "python",
   "pygments_lexer": "ipython3",
   "version": "3.10.2"
  }
 },
 "nbformat": 4,
 "nbformat_minor": 5
}
