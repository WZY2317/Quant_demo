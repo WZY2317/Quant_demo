{
 "cells": [
  {
   "cell_type": "code",
   "execution_count": 1,
   "id": "9d283222",
   "metadata": {},
   "outputs": [
    {
     "data": {
      "text/plain": [
       "499.99999999999994"
      ]
     },
     "execution_count": 1,
     "metadata": {},
     "output_type": "execute_result"
    }
   ],
   "source": [
    "0+30.0+48.7+127.3+96.8+76.6+55.2+43.4+22.0"
   ]
  },
  {
   "cell_type": "code",
   "execution_count": 8,
   "id": "09f14508",
   "metadata": {},
   "outputs": [
    {
     "data": {
      "text/plain": [
       "500.3999999999999"
      ]
     },
     "execution_count": 8,
     "metadata": {},
     "output_type": "execute_result"
    }
   ],
   "source": [
    "30.0+48.7+127.7+96.8+76.6+55.2+43.4+22\n"
   ]
  },
  {
   "cell_type": "code",
   "execution_count": 9,
   "id": "cd92e6fb",
   "metadata": {},
   "outputs": [
    {
     "data": {
      "text/plain": [
       "0.023752969121140142"
      ]
     },
     "execution_count": 9,
     "metadata": {},
     "output_type": "execute_result"
    }
   ],
   "source": [
    "10/421"
   ]
  },
  {
   "cell_type": "code",
   "execution_count": 13,
   "id": "c602552d",
   "metadata": {},
   "outputs": [
    {
     "data": {
      "text/plain": [
       "434.59999999999997"
      ]
     },
     "execution_count": 13,
     "metadata": {},
     "output_type": "execute_result"
    }
   ],
   "source": [
    "79+127+96.8+76.6+55.2\n"
   ]
  },
  {
   "cell_type": "code",
   "execution_count": 14,
   "id": "1ce11724",
   "metadata": {},
   "outputs": [],
   "source": [
    "import numpy as np"
   ]
  },
  {
   "cell_type": "code",
   "execution_count": 22,
   "id": "5044c13e",
   "metadata": {},
   "outputs": [],
   "source": [
    "def cau():\n",
    "    a=np.array([30.0,78.7,206.0,302.8,379.4,434.6,478.0])\n",
    "    size=a.size\n",
    "    for x in a:\n",
    "        print(1-x/500)"
   ]
  },
  {
   "cell_type": "code",
   "execution_count": 23,
   "id": "3ca9108b",
   "metadata": {},
   "outputs": [
    {
     "name": "stdout",
     "output_type": "stream",
     "text": [
      "0.94\n",
      "0.8426\n",
      "0.5880000000000001\n",
      "0.3944\n",
      "0.24120000000000008\n",
      "0.13079999999999992\n",
      "0.04400000000000004\n"
     ]
    }
   ],
   "source": [
    "cau()"
   ]
  },
  {
   "cell_type": "code",
   "execution_count": 24,
   "id": "7f973677",
   "metadata": {},
   "outputs": [],
   "source": [
    "import pandas as pd"
   ]
  },
  {
   "cell_type": "code",
   "execution_count": 25,
   "id": "74e88f21",
   "metadata": {},
   "outputs": [],
   "source": [
    "import matplotlib.pyplot as plt"
   ]
  },
  {
   "cell_type": "code",
   "execution_count": 43,
   "id": "338812a7",
   "metadata": {},
   "outputs": [],
   "source": [
    "x=[4.75,3.00,2.00,0.85,0.425,0.25,0.15,0.075]"
   ]
  },
  {
   "cell_type": "code",
   "execution_count": 44,
   "id": "3d2127aa",
   "metadata": {},
   "outputs": [],
   "source": [
    "y=[100,94.0,84.3,58.8,39.4,24.1,13.1,4.4]"
   ]
  },
  {
   "cell_type": "code",
   "execution_count": 45,
   "id": "e65bd6e6",
   "metadata": {},
   "outputs": [
    {
     "data": {
      "text/plain": [
       "[<matplotlib.lines.Line2D at 0x200ceb06560>]"
      ]
     },
     "execution_count": 45,
     "metadata": {},
     "output_type": "execute_result"
    },
    {
     "data": {
      "image/png": "[encoded data removed]",
      "text/plain": [
       "<Figure size 640x480 with 1 Axes>"
      ]
     },
     "metadata": {},
     "output_type": "display_data"
    }
   ],
   "source": [
    "plt.plot(x,y)"
   ]
  },
  {
   "cell_type": "code",
   "execution_count": 49,
   "id": "671be680",
   "metadata": {},
   "outputs": [
    {
     "ename": "TypeError",
     "evalue": "the first argument to axis() must be an iterable of the form [xmin, xmax, ymin, ymax]",
     "output_type": "error",
     "traceback": [
      "\u001b[1;31m---------------------------------------------------------------------------\u001b[0m",
      "\u001b[1;31mValueError\u001b[0m                                Traceback (most recent call last)",
      "File \u001b[1;32mC:\\veighna_studio\\lib\\site-packages\\matplotlib\\axes\\_base.py:2080\u001b[0m, in \u001b[0;36m_AxesBase.axis\u001b[1;34m(self, emit, *args, **kwargs)\u001b[0m\n\u001b[0;32m   2079\u001b[0m \u001b[38;5;28;01mtry\u001b[39;00m:\n\u001b[1;32m-> 2080\u001b[0m     xmin, xmax, ymin, ymax \u001b[38;5;241m=\u001b[39m limits\n\u001b[0;32m   2081\u001b[0m \u001b[38;5;28;01mexcept\u001b[39;00m (\u001b[38;5;167;01mTypeError\u001b[39;00m, \u001b[38;5;167;01mValueError\u001b[39;00m) \u001b[38;5;28;01mas\u001b[39;00m err:\n",
      "\u001b[1;31mValueError\u001b[0m: too many values to unpack (expected 4)",
      "\nThe above exception was the direct cause of the following exception:\n",
      "\u001b[1;31mTypeError\u001b[0m                                 Traceback (most recent call last)",
      "Cell \u001b[1;32mIn[49], line 1\u001b[0m\n\u001b[1;32m----> 1\u001b[0m \u001b[43mplt\u001b[49m\u001b[38;5;241;43m.\u001b[39;49m\u001b[43maxis\u001b[49m\u001b[43m(\u001b[49m\u001b[43m[\u001b[49m\u001b[43mx\u001b[49m\u001b[43m,\u001b[49m\u001b[43my\u001b[49m\u001b[43m,\u001b[49m\u001b[38;5;241;43m5\u001b[39;49m\u001b[43m,\u001b[49m\u001b[38;5;241;43m0\u001b[39;49m\u001b[43m,\u001b[49m\u001b[38;5;241;43m0\u001b[39;49m\u001b[43m,\u001b[49m\u001b[38;5;241;43m100\u001b[39;49m\u001b[43m]\u001b[49m\u001b[43m)\u001b[49m\n",
      "File \u001b[1;32mC:\\veighna_studio\\lib\\site-packages\\matplotlib\\pyplot.py:2371\u001b[0m, in \u001b[0;36maxis\u001b[1;34m(emit, *args, **kwargs)\u001b[0m\n\u001b[0;32m   2369\u001b[0m \u001b[38;5;129m@_copy_docstring_and_deprecators\u001b[39m(Axes\u001b[38;5;241m.\u001b[39maxis)\n\u001b[0;32m   2370\u001b[0m \u001b[38;5;28;01mdef\u001b[39;00m \u001b[38;5;21maxis\u001b[39m(\u001b[38;5;241m*\u001b[39margs, emit\u001b[38;5;241m=\u001b[39m\u001b[38;5;28;01mTrue\u001b[39;00m, \u001b[38;5;241m*\u001b[39m\u001b[38;5;241m*\u001b[39mkwargs):\n\u001b[1;32m-> 2371\u001b[0m     \u001b[38;5;28;01mreturn\u001b[39;00m gca()\u001b[38;5;241m.\u001b[39maxis(\u001b[38;5;241m*\u001b[39margs, emit\u001b[38;5;241m=\u001b[39memit, \u001b[38;5;241m*\u001b[39m\u001b[38;5;241m*\u001b[39mkwargs)\n",
      "File \u001b[1;32mC:\\veighna_studio\\lib\\site-packages\\matplotlib\\axes\\_base.py:2082\u001b[0m, in \u001b[0;36m_AxesBase.axis\u001b[1;34m(self, emit, *args, **kwargs)\u001b[0m\n\u001b[0;32m   2080\u001b[0m         xmin, xmax, ymin, ymax \u001b[38;5;241m=\u001b[39m limits\n\u001b[0;32m   2081\u001b[0m     \u001b[38;5;28;01mexcept\u001b[39;00m (\u001b[38;5;167;01mTypeError\u001b[39;00m, \u001b[38;5;167;01mValueError\u001b[39;00m) \u001b[38;5;28;01mas\u001b[39;00m err:\n\u001b[1;32m-> 2082\u001b[0m         \u001b[38;5;28;01mraise\u001b[39;00m \u001b[38;5;167;01mTypeError\u001b[39;00m(\u001b[38;5;124m'\u001b[39m\u001b[38;5;124mthe first argument to axis() must be an \u001b[39m\u001b[38;5;124m'\u001b[39m\n\u001b[0;32m   2083\u001b[0m                         \u001b[38;5;124m'\u001b[39m\u001b[38;5;124miterable of the form \u001b[39m\u001b[38;5;124m'\u001b[39m\n\u001b[0;32m   2084\u001b[0m                         \u001b[38;5;124m'\u001b[39m\u001b[38;5;124m[xmin, xmax, ymin, ymax]\u001b[39m\u001b[38;5;124m'\u001b[39m) \u001b[38;5;28;01mfrom\u001b[39;00m \u001b[38;5;21;01merr\u001b[39;00m\n\u001b[0;32m   2085\u001b[0m \u001b[38;5;28;01melse\u001b[39;00m:\n\u001b[0;32m   2086\u001b[0m     xmin \u001b[38;5;241m=\u001b[39m kwargs\u001b[38;5;241m.\u001b[39mpop(\u001b[38;5;124m'\u001b[39m\u001b[38;5;124mxmin\u001b[39m\u001b[38;5;124m'\u001b[39m, \u001b[38;5;28;01mNone\u001b[39;00m)\n",
      "\u001b[1;31mTypeError\u001b[0m: the first argument to axis() must be an iterable of the form [xmin, xmax, ymin, ymax]"
     ]
    },
    {
     "data": {
      "image/png": "[encoded data removed]",
      "text/plain": [
       "<Figure size 640x480 with 1 Axes>"
      ]
     },
     "metadata": {},
     "output_type": "display_data"
    }
   ],
   "source": [
    "plt.axis([x,y,5,0,0,100])"
   ]
  },
  {
   "cell_type": "code",
   "execution_count": 42,
   "id": "4763ccf3",
   "metadata": {},
   "outputs": [],
   "source": [
    "plt.show()"
   ]
  },
  {
   "cell_type": "code",
   "execution_count": 50,
   "id": "70431d74",
   "metadata": {},
   "outputs": [
    {
     "data": {
      "text/plain": [
       "6.923076923076923"
      ]
     },
     "execution_count": 50,
     "metadata": {},
     "output_type": "execute_result"
    }
   ],
   "source": [
    "0.9/0.13"
   ]
  },
  {
   "cell_type": "code",
   "execution_count": 51,
   "id": "29e987dc",
   "metadata": {},
   "outputs": [
    {
     "data": {
      "text/plain": [
       "0.12249999999999998"
      ]
     },
     "execution_count": 51,
     "metadata": {},
     "output_type": "execute_result"
    }
   ],
   "source": [
    "0.35*0.35"
   ]
  },
  {
   "cell_type": "code",
   "execution_count": 52,
   "id": "0ee99f40",
   "metadata": {},
   "outputs": [
    {
     "data": {
      "text/plain": [
       "1.0256410256410255"
      ]
     },
     "execution_count": 52,
     "metadata": {},
     "output_type": "execute_result"
    }
   ],
   "source": [
    "(0.12)/(0.9*0.13)"
   ]
  },
  {
   "cell_type": "code",
   "execution_count": 2,
   "id": "c97f3be8",
   "metadata": {},
   "outputs": [],
   "source": [
    "import numpy as np"
   ]
  },
  {
   "cell_type": "code",
   "execution_count": 23,
   "id": "c7013c92",
   "metadata": {},
   "outputs": [],
   "source": [
    "import matplotlib.pyplot as plt"
   ]
  },
  {
   "cell_type": "code",
   "execution_count": 24,
   "id": "4aacc224",
   "metadata": {},
   "outputs": [],
   "source": [
    "xpoints=np.array([0.425,\n",
    "0.18,\n",
    "0.09,\n",
    "0.075,\n",
    "0.04,\n",
    "0.015,\n",
    "0.008,\n",
    "0.004,\n",
    "0.002,\n",
    "])\n",
    "ypoints=np.array([100,\n",
    "97,\n",
    "92,\n",
    "90,\n",
    "74,\n",
    "42,\n",
    "27,\n",
    "17,\n",
    "11,\n",
    "])\n"
   ]
  },
  {
   "cell_type": "code",
   "execution_count": 25,
   "id": "0ac390eb",
   "metadata": {},
   "outputs": [
    {
     "data": {
      "text/plain": [
       "[<matplotlib.lines.Line2D at 0x27598170fa0>]"
      ]
     },
     "execution_count": 25,
     "metadata": {},
     "output_type": "execute_result"
    },
    {
     "data": {
      "image/png": "[encoded data removed]",
      "text/plain": [
       "<Figure size 640x480 with 1 Axes>"
      ]
     },
     "metadata": {},
     "output_type": "display_data"
    }
   ],
   "source": [
    "plt.plot(xpoints,ypoints)"
   ]
  },
  {
   "cell_type": "code",
   "execution_count": 26,
   "id": "510aaec9",
   "metadata": {},
   "outputs": [],
   "source": [
    "from matplotlib.pyplot import MultipleLocator"
   ]
  },
  {
   "cell_type": "code",
   "execution_count": 27,
   "id": "30f7ef3e",
   "metadata": {},
   "outputs": [],
   "source": [
    "x_major_locator=MultipleLocator(0.01)"
   ]
  },
  {
   "cell_type": "code",
   "execution_count": 28,
   "id": "3942755d",
   "metadata": {},
   "outputs": [],
   "source": [
    "y_major_locator=MultipleLocator(10)"
   ]
  },
  {
   "cell_type": "code",
   "execution_count": 29,
   "id": "44a0ef04",
   "metadata": {},
   "outputs": [
    {
     "data": {
      "image/png": "[encoded data removed]",
      "text/plain": [
       "<Figure size 640x480 with 1 Axes>"
      ]
     },
     "metadata": {},
     "output_type": "display_data"
    }
   ],
   "source": [
    "ax=plt.gca()"
   ]
  },
  {
   "cell_type": "code",
   "execution_count": 30,
   "id": "c98f5dae",
   "metadata": {},
   "outputs": [],
   "source": [
    "ax.xaxis.set_major_locator(x_major_locator)"
   ]
  },
  {
   "cell_type": "code",
   "execution_count": 31,
   "id": "d7d309cd",
   "metadata": {},
   "outputs": [],
   "source": [
    "ax.yaxis.set_major_locator(y_major_locator)"
   ]
  },
  {
   "cell_type": "code",
   "execution_count": 32,
   "id": "4e707ba2",
   "metadata": {},
   "outputs": [
    {
     "data": {
      "text/plain": [
       "(10.0, 0.01)"
      ]
     },
     "execution_count": 32,
     "metadata": {},
     "output_type": "execute_result"
    },
    {
     "data": {
      "image/png": "[encoded data removed]",
      "text/plain": [
       "<Figure size 640x480 with 1 Axes>"
      ]
     },
     "metadata": {},
     "output_type": "display_data"
    }
   ],
   "source": [
    "plt.xlim(10,0.01)"
   ]
  },
  {
   "cell_type": "code",
   "execution_count": 33,
   "id": "86780544",
   "metadata": {},
   "outputs": [
    {
     "data": {
      "text/plain": [
       "[<matplotlib.lines.Line2D at 0x275984b1de0>]"
      ]
     },
     "execution_count": 33,
     "metadata": {},
     "output_type": "execute_result"
    },
    {
     "data": {
      "image/png": "[encoded data removed]",
      "text/plain": [
       "<Figure size 640x480 with 1 Axes>"
      ]
     },
     "metadata": {},
     "output_type": "display_data"
    }
   ],
   "source": [
    "plt.plot(xpoints,ypoints)"
   ]
  },
  {
   "cell_type": "code",
   "execution_count": 34,
   "id": "fe4bd4cf",
   "metadata": {},
   "outputs": [
    {
     "data": {
      "text/plain": [
       "0.37037037037037035"
      ]
     },
     "execution_count": 34,
     "metadata": {},
     "output_type": "execute_result"
    }
   ],
   "source": [
    "1/2.7"
   ]
  },
  {
   "cell_type": "code",
   "execution_count": null,
   "id": "b98b30ca",
   "metadata": {},
   "outputs": [],
   "source": []
  }
 ],
 "metadata": {
  "kernelspec": {
   "display_name": "Python 3 (ipykernel)",
   "language": "python",
   "name": "python3"
  },
  "language_info": {
   "codemirror_mode": {
    "name": "ipython",
    "version": 3
   },
   "file_extension": ".py",
   "mimetype": "text/x-python",
   "name": "python",
   "nbconvert_exporter": "python",
   "pygments_lexer": "ipython3",
   "version": "3.10.2"
  }
 },
 "nbformat": 4,
 "nbformat_minor": 5
}
